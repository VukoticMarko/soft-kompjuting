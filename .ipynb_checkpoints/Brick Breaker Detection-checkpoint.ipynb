{
 "cells": [
  {
   "cell_type": "code",
   "execution_count": 1,
   "id": "6d494cf3",
   "metadata": {},
   "outputs": [],
   "source": [
    "import os\n",
    "import cv2\n",
    "import math\n",
    "import numpy as np\n",
    "from itertools import islice\n",
    "from glob import glob\n",
    "from sklearn.metrics import mean_absolute_error as MAE"
   ]
  },
  {
   "cell_type": "code",
   "execution_count": 2,
   "id": "5b927428",
   "metadata": {},
   "outputs": [],
   "source": [
    "def get_res_from_txt(file):\n",
    "    f = open(file, \"r\")\n",
    "    hits = []\n",
    "    flag = False\n",
    "    for line in f.readlines():\n",
    "        if flag: \n",
    "            tokens = line.strip().split(\",\")\n",
    "            hits.append(int(tokens[1]))\n",
    "        flag = True # Preskacemo prvi red txt\n",
    "    return hits"
   ]
  },
  {
   "cell_type": "code",
   "execution_count": 3,
   "id": "fb27ecce",
   "metadata": {
    "scrolled": false
   },
   "outputs": [],
   "source": [
    "def create_dir(path):\n",
    "    # Pravljenje fajla za cuvanje frejmova\n",
    "    try:\n",
    "        if not os.path.exists(path):\n",
    "            os.makedirs(path)\n",
    "    except OSError:\n",
    "        print(f\"ERROR: creating directory with name {path}\")\n"
   ]
  },
  {
   "cell_type": "code",
   "execution_count": 4,
   "id": "b6fb670f",
   "metadata": {},
   "outputs": [],
   "source": [
    "def save_frame(video_path, save_dir, gap=1):\n",
    "    name = video_path.split(\"/\")[-1].split(\".\")[0]\n",
    "    save_path = os.path.join(save_dir, name)\n",
    "    create_dir(save_path)\n",
    "    cap = cv2.VideoCapture(video_path)\n",
    "    idx = 0\n",
    "    while True:\n",
    "        ret, frame = cap.read()\n",
    "\n",
    "        if ret == False:\n",
    "            cap.release()\n",
    "            break\n",
    "        # Pravimo frejmove iz snimka po indeksu\n",
    "        cv2.imwrite(f\"{save_path}/{idx}.png\", frame)\n",
    "        idx += 1"
   ]
  },
  {
   "cell_type": "code",
   "execution_count": 5,
   "id": "e3774d68",
   "metadata": {},
   "outputs": [],
   "source": [
    "def get_frames():\n",
    "# Pomocna metoda da pozove seckanje snimka\n",
    "    video_paths = glob(\"Videos/*\")\n",
    "    save_dir = \"Save\"\n",
    "    for path in video_paths:\n",
    "        save_frame(path, save_dir, gap=10)"
   ]
  },
  {
   "cell_type": "code",
   "execution_count": 6,
   "id": "5f336fdb",
   "metadata": {},
   "outputs": [],
   "source": [
    "def lr_edge(frame):\n",
    "    # Canny edge radimo\n",
    "    canny_frame = cv2.Canny(frame, 100, 200)\n",
    "    # Vrednosti za ivice koje ce biti sigurno pretabane\n",
    "    l = [math.inf, math.inf, math.inf, math.inf]\n",
    "    r = [-math.inf, -math.inf, -math.inf, -math.inf]\n",
    "    # Svi parametri koje Hough Lines zahteva\n",
    "    # HL se koristi da dobijemo linije od ivica\n",
    "    rres = 1\n",
    "    thetares = 1*np.pi/180\n",
    "    threshold = 1\n",
    "    min_line_length = 1\n",
    "    max_line_gap = 100\n",
    "    lines = cv2.HoughLinesP(canny_frame, rres, thetares, threshold, min_line_length,\n",
    "                            max_line_gap)\n",
    "    i = 0\n",
    "    for i in range(len(lines)):\n",
    "        x1 = lines[i][0][0]\n",
    "        y1 = lines[i][0][1]    \n",
    "        x2 = lines[i][0][2]\n",
    "        y2 = lines[i][0][3]  \n",
    "        # Gledamo x od linija da nadjemo levu i desnu stranu\n",
    "        # Najmanji x je leva ivica dok je najveci desna ivica\n",
    "        if x1 == x2: # Da li je vertikalna linija u pitanju?\n",
    "            if x1 < l[0]: # Sada ovu vert. liniju uzimamo za levu stranu\n",
    "                l = [x1, y1, x2, y2] \n",
    "            if x1 > r[0]: # Sada ovu vert. liniju uzimamo za desnu stranu\n",
    "                r = [x1, y1, x2, y2]\n",
    "    return l, r            "
   ]
  },
  {
   "cell_type": "code",
   "execution_count": 7,
   "id": "dcea0868",
   "metadata": {},
   "outputs": [],
   "source": [
    "def get_ball_coordinates(frame):\n",
    "    # Vadimo binarnu sliku sa thresholdom\n",
    "    xyz, t_image = cv2.threshold(frame, 127, 255, cv2.THRESH_BINARY)\n",
    "    # Vadimo objekte\n",
    "    fc, vwz = cv2.findContours(t_image, cv2.RETR_LIST, cv2.CHAIN_APPROX_SIMPLE)\n",
    "    balls = [] # Lista svih loptica sa slike\n",
    "    for c in fc:\n",
    "        # X i Y su centar loptice\n",
    "        (x, y), r = cv2.minEnclosingCircle(c)\n",
    "        if r < 5 and r > 4: # Gledamo da li je loptica iz liste kontura\n",
    "            balls.append((x, y)) # Cuvamo koordinate za kasniju proveru udarca\n",
    "    return balls"
   ]
  },
  {
   "cell_type": "code",
   "execution_count": 8,
   "id": "404c6d78",
   "metadata": {},
   "outputs": [],
   "source": [
    "def get_edges():\n",
    "# Pomocna metoda koja se pozove jednom da inicijalizujemo ivice igre\n",
    "    i = 1\n",
    "    l = []\n",
    "    r = []\n",
    "    for i in range(11):\n",
    "        path = r'Save\\Videos\\video' + str(i) + '\\*.png'\n",
    "        img_names = glob(path)\n",
    "        for frame in img_names:\n",
    "            img = cv2.imread(frame, 0)\n",
    "            l, r = lr_edge(img) # Metoda nam vrati ivice i imamo za dalji rad\n",
    "            return l, r"
   ]
  },
  {
   "cell_type": "code",
   "execution_count": 9,
   "id": "3138907f",
   "metadata": {},
   "outputs": [],
   "source": [
    "def calculate_hits():\n",
    "# Za svaki frame iz snimaka koji uzimamo iz foldera,\n",
    "# gledamo da li je loptica izvucena sa framea u zoni\n",
    "# pixela ivica. Ako jeste dodajemo hit\n",
    "    result = {}\n",
    "    i = 1\n",
    "    flag = True\n",
    "    l, r = get_edges()\n",
    "    for i in range(11):\n",
    "        hits = 0\n",
    "        path = r'Save\\Videos\\video' + str(i) + '\\*.png'\n",
    "        img_names = glob(path)\n",
    "        for frame in img_names:\n",
    "            img = cv2.imread(frame, 0)\n",
    "            balls = get_ball_coordinates(img) # Dobijamo loptice\n",
    "            # X coordinate ivica za poredjenje\n",
    "            lx = l[0] \n",
    "            rx = r[0]\n",
    "            for b in balls:\n",
    "                # Uzimamo x loptice za poredjenje\n",
    "                bx = b[0]\n",
    "                # Ako je u zoni manjoj od 20 dodaj hit\n",
    "                # Flag klazula je dodata zbog bug-a na prvoj iteraciji\n",
    "                if flag:\n",
    "                    if bx - lx < 20:\n",
    "                        hits += 1\n",
    "                    if rx - bx < 20:\n",
    "                        hits += 1\n",
    "                else:\n",
    "                    if bx - lx < 23:\n",
    "                        hits += 1\n",
    "                        # next(islice(balls, 3, 3), None)\n",
    "                    if rx - bx < 23:\n",
    "                        hits += 1\n",
    "                        # next(islice(balls, 3, 3), None)\n",
    "        if hits != 0:\n",
    "            flag = False\n",
    "        #print(hits)\n",
    "        # U recnik pisemo ime snimka i broj udaraca vezan za snimak\n",
    "        result['video' + str(i)] = hits \n",
    "    return result # Vracamo recnik sa svim snimcima i njihovim udarcima"
   ]
  },
  {
   "cell_type": "code",
   "execution_count": null,
   "id": "75917847",
   "metadata": {
    "scrolled": false
   },
   "outputs": [
    {
     "name": "stdout",
     "output_type": "stream",
     "text": [
      "0\n"
     ]
    }
   ],
   "source": [
    "if __name__ == \"__main__\":\n",
    "    # Init programa i pozivanje metoda\n",
    "    #get_frames() # Pozivamo metodu secenja snimaka u frejmove\n",
    "    result = calculate_hits()\n",
    "    my_result = result.values()\n",
    "    data = []\n",
    "    flag = True\n",
    "    for mr in my_result: # Prebacujemo vrednosti recnika u listu\n",
    "        if not flag:\n",
    "            data.append(mr)\n",
    "        else:\n",
    "            flag = False\n",
    "    print(data)\n",
    "    # Uzmi tacne rezultate\n",
    "    data_result = get_res_from_txt(r'Videos\\res.txt')\n",
    "    print(data_result)\n",
    "    # Racunaj Mean Absolute Error\n",
    "    print('MAE: ', MAE(data_result, data))"
   ]
  },
  {
   "cell_type": "code",
   "execution_count": null,
   "id": "0b6d9305",
   "metadata": {},
   "outputs": [],
   "source": []
  },
  {
   "cell_type": "code",
   "execution_count": null,
   "id": "b3af1016",
   "metadata": {},
   "outputs": [],
   "source": []
  }
 ],
 "metadata": {
  "kernelspec": {
   "display_name": "Python 3 (ipykernel)",
   "language": "python",
   "name": "python3"
  },
  "language_info": {
   "codemirror_mode": {
    "name": "ipython",
    "version": 3
   },
   "file_extension": ".py",
   "mimetype": "text/x-python",
   "name": "python",
   "nbconvert_exporter": "python",
   "pygments_lexer": "ipython3",
   "version": "3.8.5"
  }
 },
 "nbformat": 4,
 "nbformat_minor": 5
}
